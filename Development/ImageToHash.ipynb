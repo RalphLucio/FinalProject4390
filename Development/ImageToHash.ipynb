{
 "cells": [
  {
   "cell_type": "code",
   "execution_count": 108,
   "id": "c9a1f8a1-5421-4d6b-9df5-8e6f460b13ac",
   "metadata": {},
   "outputs": [],
   "source": [
    "%matplotlib inline\n",
    "import cv2\n",
    "import math\n",
    "from matplotlib import pyplot as plt\n",
    "import numpy as np\n",
    "\n",
    "#hashing\n",
    "import hashlib"
   ]
  },
  {
   "cell_type": "code",
   "execution_count": 114,
   "id": "96b91ba7-3a3e-4e0d-bc2a-bc0db4208225",
   "metadata": {},
   "outputs": [],
   "source": [
    "def md5checksum(fname):\n",
    "    md5 = hashlib.md5()\n",
    "    with open(fname, \"rb\") as f:\n",
    "        while chunk := f.read(4096):\n",
    "            md5.update(chunk)\n",
    "    return md5.hexdigest()"
   ]
  },
  {
   "cell_type": "code",
   "execution_count": 118,
   "id": "5b18aea4-91f1-44c1-afb5-eee4083bc0ef",
   "metadata": {},
   "outputs": [
    {
     "name": "stdout",
     "output_type": "stream",
     "text": [
      "2350d0c50d9740dcc3869cdb1e0d9894\n"
     ]
    }
   ],
   "source": [
    "#print(os.getcwd()) #to get current working directory\n",
    "file_path = \"C:\\\\Users\\\\ryanw\\\\jupyter\\\\MediScanCode\\\\rekt.jpg\"\n",
    "example = cv2.imread(file_path)\n",
    "\n",
    "result = md5checksum(file_path)\n",
    "print(result)"
   ]
  },
  {
   "cell_type": "code",
   "execution_count": null,
   "id": "663e1ebb-9cd0-443b-a4db-a24ea1e9064a",
   "metadata": {},
   "outputs": [],
   "source": []
  }
 ],
 "metadata": {
  "kernelspec": {
   "display_name": "Python 3 (ipykernel)",
   "language": "python",
   "name": "python3"
  },
  "language_info": {
   "codemirror_mode": {
    "name": "ipython",
    "version": 3
   },
   "file_extension": ".py",
   "mimetype": "text/x-python",
   "name": "python",
   "nbconvert_exporter": "python",
   "pygments_lexer": "ipython3",
   "version": "3.11.7"
  }
 },
 "nbformat": 4,
 "nbformat_minor": 5
}
